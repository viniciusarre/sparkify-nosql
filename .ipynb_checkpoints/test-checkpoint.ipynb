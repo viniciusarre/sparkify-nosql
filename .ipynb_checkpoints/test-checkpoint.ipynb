{
 "cells": [
  {
   "cell_type": "code",
   "execution_count": 1,
   "metadata": {},
   "outputs": [],
   "source": [
    "from cql_queries import song_artist_query, user_song_artist_query, user_song_query\n",
    "from create_tables import create_or_connect_to_keyspace"
   ]
  },
  {
   "cell_type": "markdown",
   "metadata": {},
   "source": [
    "## Create queries to ask the following three questions of the data\n",
    "\n",
    "### 1. Give me the artist, song title and song's length in the music app history that was heard during  sessionId = 338, and itemInSession  = 4\n",
    "\n",
    "\n",
    "### 2. Give me only the following: name of artist, song (sorted by itemInSession) and user (first and last name) for userid = 10, sessionid = 182\n",
    "    \n",
    "\n",
    "### 3. Give me every user name (first and last) in my music app history who listened to the song 'All Hands Against His Own'\n",
    "\n",
    "\n"
   ]
  },
  {
   "cell_type": "code",
   "execution_count": 2,
   "metadata": {},
   "outputs": [],
   "source": [
    "# Connect to the database\n",
    "cluster, session = create_or_connect_to_keyspace()"
   ]
  },
  {
   "cell_type": "code",
   "execution_count": 3,
   "metadata": {},
   "outputs": [
    {
     "name": "stdout",
     "output_type": "stream",
     "text": [
      "['Faithless', 'Music Matters (Mark Knight Dub)', Decimal('495.3073')]\n"
     ]
    }
   ],
   "source": [
    "# Query 1\n",
    "rows = session.execute(song_artist_query, (338, 4))\n",
    "for row in rows:\n",
    "    print(list(row))"
   ]
  },
  {
   "cell_type": "code",
   "execution_count": 4,
   "metadata": {},
   "outputs": [
    {
     "name": "stdout",
     "output_type": "stream",
     "text": [
      "['Down To The Bone', \"Keep On Keepin' On\", 'Sylvie', 'Cruz']\n",
      "['Three Drives', 'Greece 2000', 'Sylvie', 'Cruz']\n",
      "['Sebastien Tellier', 'Kilometer', 'Sylvie', 'Cruz']\n",
      "['Lonnie Gordon', 'Catch You Baby (Steve Pitron & Max Sanna Radio Edit)', 'Sylvie', 'Cruz']\n"
     ]
    }
   ],
   "source": [
    "# Query 2\n",
    "rows = session.execute(user_song_artist_query, (10, 182))\n",
    "for row in rows:\n",
    "    print(list(row))"
   ]
  },
  {
   "cell_type": "code",
   "execution_count": 17,
   "metadata": {},
   "outputs": [
    {
     "name": "stdout",
     "output_type": "stream",
     "text": [
      "['Sara', 'Johnson']\n"
     ]
    }
   ],
   "source": [
    "# Query 3\n",
    "rows = session.execute(\"SELECT first_name, last_name FROM user_song WHERE song = 'All Hands Against His Own'\")\n",
    "for row in rows:\n",
    "    print(list(row))\n"
   ]
  }
 ],
 "metadata": {
  "kernelspec": {
   "display_name": "Python 3",
   "language": "python",
   "name": "python3"
  },
  "language_info": {
   "codemirror_mode": {
    "name": "ipython",
    "version": 3
   },
   "file_extension": ".py",
   "mimetype": "text/x-python",
   "name": "python",
   "nbconvert_exporter": "python",
   "pygments_lexer": "ipython3",
   "version": "3.9.1"
  }
 },
 "nbformat": 4,
 "nbformat_minor": 4
}
